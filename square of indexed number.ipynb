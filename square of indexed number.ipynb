{
 "cells": [
  {
   "cell_type": "code",
   "execution_count": 3,
   "metadata": {},
   "outputs": [
    {
     "name": "stdout",
     "output_type": "stream",
     "text": [
      "5\n",
      "The square of this index of loop is:  0\n",
      "The square of this index of loop is:  1\n",
      "The square of this index of loop is:  4\n",
      "The square of this index of loop is:  9\n",
      "The square of this index of loop is:  16\n"
     ]
    }
   ],
   "source": [
    "#Read an integer N. For all non-negative integers i<N , print i^2 . See the sample for details.\n",
    "#If input = 5 then \n",
    "# output = 0 \n",
    "#          1\n",
    "#          4\n",
    "#          9\n",
    "#         16\n",
    "\n",
    "if __name__ == '__main__':\n",
    "    n = int(input())\n",
    "    for i in range(0, n):\n",
    "        print(\"The square of this index of loop is: \",i*i)"
   ]
  },
  {
   "cell_type": "code",
   "execution_count": null,
   "metadata": {},
   "outputs": [],
   "source": []
  }
 ],
 "metadata": {
  "kernelspec": {
   "display_name": "Python 3",
   "language": "python",
   "name": "python3"
  },
  "language_info": {
   "codemirror_mode": {
    "name": "ipython",
    "version": 3
   },
   "file_extension": ".py",
   "mimetype": "text/x-python",
   "name": "python",
   "nbconvert_exporter": "python",
   "pygments_lexer": "ipython3",
   "version": "3.7.4"
  }
 },
 "nbformat": 4,
 "nbformat_minor": 2
}
