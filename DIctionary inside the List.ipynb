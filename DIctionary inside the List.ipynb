{
 "cells": [
  {
   "cell_type": "code",
   "execution_count": 1,
   "metadata": {},
   "outputs": [
    {
     "name": "stdout",
     "output_type": "stream",
     "text": [
      "The complexity of this program is O(n) because it traverse through the entire list once\n",
      "['Mike', 80919, 'Sam', 80202, 'Bhawana', 80233, 'Atul', 80203]\n"
     ]
    }
   ],
   "source": [
    "#This is a problem of dictionary inside the list\n",
    "#Write a function that takes the list of objects containing name, age, zip, and favorite_color\n",
    "#and should return the list of the names of people and their zip codes who are under 30 and whose color is blue\n",
    "\n",
    "def funct(list):\n",
    "    output_array = []\n",
    "    if (not listProvided):\n",
    "        print(\"Oopps.. You entered the blank list\")\n",
    "        return -1\n",
    "    else:\n",
    "        for i in listProvided:\n",
    "            if i['age'] <= 30 and i['favorite_color'] == \"blue\":\n",
    "                output_array.append(i['name']) \n",
    "                output_array.append(i['zip'])\n",
    "                #output_array.extend((i['name'],i['zip'])) # the alternative of above two lines is this one line\n",
    "            else:\n",
    "                pass\n",
    "        print(\"The complexity of this program is O(n) because it traverses through the entire list once\")\n",
    "        return output_array\n",
    "\n",
    "    \n",
    "if __name__ == '__main__':\n",
    "    listProvided = [{\"name\": \"Mike\", \"age\": 23, \"zip\": 80919, \"favorite_color\": \"blue\"}, \n",
    "                    {\"name\": \"Sam\", \"age\": 25, \"zip\": 80202, \"favorite_color\": \"blue\"},\n",
    "                    {\"name\": \"Bob\", \"age\": 35, \"zip\":80303, \"favorite_color\":\"black\"},\n",
    "                   {\"name\": \"Bhawana\", \"age\": 24, \"zip\":80233, \"favorite_color\":\"blue\"},\n",
    "                   {\"name\": \"Al\", \"age\": 24, \"zip\":80200, \"favorite_color\":\"black\"},\n",
    "                   {\"name\": \"Atul\", \"age\": 20, \"zip\":80203, \"favorite_color\":\"blue\"}]\n",
    "    #listProvided=[]# testes with the blank list\n",
    "    print(funct(listProvided))"
   ]
  },
  {
   "cell_type": "code",
   "execution_count": null,
   "metadata": {},
   "outputs": [],
   "source": []
  }
 ],
 "metadata": {
  "kernelspec": {
   "display_name": "Python 3",
   "language": "python",
   "name": "python3"
  },
  "language_info": {
   "codemirror_mode": {
    "name": "ipython",
    "version": 3
   },
   "file_extension": ".py",
   "mimetype": "text/x-python",
   "name": "python",
   "nbconvert_exporter": "python",
   "pygments_lexer": "ipython3",
   "version": "3.7.4"
  }
 },
 "nbformat": 4,
 "nbformat_minor": 2
}
