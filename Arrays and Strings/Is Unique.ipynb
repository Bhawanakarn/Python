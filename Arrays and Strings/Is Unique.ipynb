#  Implement an algorithm to determine if a string has all unique characters.
# What if you cannot use additional data structures?
# Assume that the characters are ASCII charatcers of 128 characters
#examples:
#abcdd = False
#abcdef = True
#apple = False
#cat = True

#PLAN-----------------------
#Base case: if the length of the inputlist is greater than 128 then return false
# because it is not possible to have all unique characters if the table only consists of 128 unique char
#then make an empty dictionary
#run a for loop to the inputlist
#   check if the character is already in dictionary
#       then immediately return FALSE
#   else
#       store the character in the dictionary
#return TRUE

# arr=[5,6,3,4]
# for i in arr:
#     print(i)

def IsUnique(inputList):
    if len(inputList) >128:
        print("It is more than 128 characters, so there must be some duplicates according to ASCII characters.")
        return False
    
    newdict={}
    for i in inputList:
        if i in newdict:
            return False
        else:
            newdict[i] = 1   
        print(newdict)
    return True

if __name__== '__main__':
    inputList = str(input())
    print(IsUnique(inputList))
    
