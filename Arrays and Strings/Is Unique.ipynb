{
 "cells": [
  {
   "cell_type": "code",
   "execution_count": 1,
   "metadata": {},
   "outputs": [],
   "source": [
    "#  Implement an algorithm to determine if a string has all unique characters.\n",
    "# What if you cannot use additional data structures?\n",
    "# Assume that the characters are ASCII charatcers of 128 characters\n",
    "#examples:\n",
    "#abcdd = False\n",
    "#abcdef = True\n",
    "#apple = False\n",
    "#cat = True"
   ]
  },
  {
   "cell_type": "code",
   "execution_count": 4,
   "metadata": {},
   "outputs": [],
   "source": [
    "#PLAN-----------------------\n",
    "#Base case: if the length of the inputlist is greater than 128 then return false\n",
    "# because it is not possible to have all unique characters if the table only consists of 128 unique char\n",
    "#then make an empty dictionary\n",
    "#run a for loop to the inputlist\n",
    "#   check if the character is already in dictionary\n",
    "#       then immediately return FALSE\n",
    "#   else\n",
    "#       store the character in the dictionary\n",
    "#return TRUE"
   ]
  },
  {
   "cell_type": "code",
   "execution_count": 16,
   "metadata": {},
   "outputs": [
    {
     "name": "stdout",
     "output_type": "stream",
     "text": [
      "cat\n",
      "{'c': 1}\n",
      "{'c': 1, 'a': 1}\n",
      "{'c': 1, 'a': 1, 't': 1}\n",
      "True\n"
     ]
    }
   ],
   "source": [
    "# arr=[5,6,3,4]\n",
    "# for i in arr:\n",
    "#     print(i)\n",
    "\n",
    "def IsUnique(inputList):\n",
    "    if len(inputList) >128:\n",
    "        print(\"It is more than 128 characters, so there must be some duplicates according to ASCII characters.\")\n",
    "        return False\n",
    "    \n",
    "    newdict={}\n",
    "    for i in inputList:\n",
    "        if i in newdict:\n",
    "            return False\n",
    "        else:\n",
    "            newdict[i] = 1   \n",
    "        print(newdict)\n",
    "    return True\n",
    "\n",
    "if __name__== '__main__':\n",
    "    inputList = str(input())\n",
    "    print(IsUnique(inputList))\n",
    "    "
   ]
  },
  {
   "cell_type": "code",
   "execution_count": null,
   "metadata": {},
   "outputs": [],
   "source": []
  }
 ],
 "metadata": {
  "kernelspec": {
   "display_name": "Python 3",
   "language": "python",
   "name": "python3"
  },
  "language_info": {
   "codemirror_mode": {
    "name": "ipython",
    "version": 3
   },
   "file_extension": ".py",
   "mimetype": "text/x-python",
   "name": "python",
   "nbconvert_exporter": "python",
   "pygments_lexer": "ipython3",
   "version": "3.7.4"
  }
 },
 "nbformat": 4,
 "nbformat_minor": 2
}
