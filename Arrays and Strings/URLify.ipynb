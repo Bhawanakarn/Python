{
 "cells": [
  {
   "cell_type": "code",
   "execution_count": 51,
   "metadata": {},
   "outputs": [],
   "source": [
    "#URLify: Write a method to replace all spaces in a string with \"%20\"\n",
    "#example: input: \"This is a red color\"\n",
    "#output: \"This%20is%20a%20red%20color\"\n",
    "#Input: \"I am girl\"\n",
    "#output: \"I%20am%20girl\""
   ]
  },
  {
   "cell_type": "code",
   "execution_count": null,
   "metadata": {},
   "outputs": [],
   "source": [
    "#PLAN:\n",
    "#remove all the spaces from the beginning and the end of the letters/character (eg: \"  I am \" == \"I am\")\n",
    "#create a new array to store all the values for the output\n",
    "# run the for loop for the length of the input \n",
    "# append all the characters in the newarray except the spaces\n",
    "#   then check if the current item is space\n",
    "#      remove the space character from the newArray, b/c if you start form the left side of the string it just goes by one character up\n",
    "#     add the characters \"%20\" in all the places from where you removed space\n",
    "#turn the list of characters to only character form and return that"
   ]
  },
  {
   "cell_type": "code",
   "execution_count": 62,
   "metadata": {},
   "outputs": [
    {
     "name": "stdout",
     "output_type": "stream",
     "text": [
      "I am a girl\n",
      "I%20am%20a%20girl\n"
     ]
    }
   ],
   "source": [
    "# this runs in O(n) time\n",
    "def URLify(string):\n",
    "    string = string.strip()\n",
    "    answer_Array = []\n",
    "    for item in range(len(string)):\n",
    "        answer_Array.append(string[item])\n",
    "        if string[item] == \" \":\n",
    "            answer_Array.remove(\" \")# the remove is mandatory because it removes the blank space\n",
    "            answer_Array.append(\"%20\")\n",
    "    #result = \"\".join(answer_Array)# changes list of characters to only character\n",
    "    return (\"\".join(answer_Array))\n",
    "    \n",
    "if __name__ == \"__main__\":\n",
    "    string = str(input())\n",
    "    print(URLify(string))"
   ]
  },
  {
   "cell_type": "code",
   "execution_count": null,
   "metadata": {},
   "outputs": [],
   "source": []
  }
 ],
 "metadata": {
  "kernelspec": {
   "display_name": "Python 3",
   "language": "python",
   "name": "python3"
  },
  "language_info": {
   "codemirror_mode": {
    "name": "ipython",
    "version": 3
   },
   "file_extension": ".py",
   "mimetype": "text/x-python",
   "name": "python",
   "nbconvert_exporter": "python",
   "pygments_lexer": "ipython3",
   "version": "3.7.4"
  }
 },
 "nbformat": 4,
 "nbformat_minor": 2
}
