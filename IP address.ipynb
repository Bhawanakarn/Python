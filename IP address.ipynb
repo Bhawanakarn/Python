{
 "cells": [
  {
   "cell_type": "code",
   "execution_count": 1,
   "metadata": {},
   "outputs": [],
   "source": [
    "# Validate an IP address (IPv4). An address is valid if and only if it is in the form \"X.X.X.X\", \n",
    "# where each X is a number from 0 to 255.\n",
    "\n",
    "#example:\n",
    "# ip = '192.168.0.1'\n",
    "# output: true\n",
    "\n",
    "# ip = '0.0.0.0'\n",
    "# output: true\n",
    "\n",
    "# ip = '123.24.59.99'\n",
    "# output: true\n",
    "\n",
    "# ip = '192.168.123.456'\n",
    "# output: false"
   ]
  },
  {
   "cell_type": "code",
   "execution_count": 83,
   "metadata": {},
   "outputs": [
    {
     "name": "stdout",
     "output_type": "stream",
     "text": [
      "192.168.0.1\n",
      "True\n"
     ]
    }
   ],
   "source": [
    "import re #python regex\n",
    "address =  r'([0-9]|[1-9][0-9]|1[0-9][0-9]|2[0-4][0-9]|25[0-5])'\n",
    "address = r'(['\\d'] | ['\\d']['\\d'] |1['\\d']['\\d'] | 2[])\n",
    "pattern_address = re.compile(r'^(' + address + r'\\.){3}' + address + r'$')\n",
    "def ValidateIP(ip):\n",
    "    if len(ip) == 0:\n",
    "        return False\n",
    "    else:\n",
    "        if pattern_address.match(ip):\n",
    "            return True\n",
    "        else:\n",
    "            return False\n",
    "    \n",
    "if __name__ == '__main__':\n",
    "    ip = str(input())\n",
    "    print(ValidateIP(ip))\n",
    "    #123.23.456.78 = false\n",
    "    #12.asdf.220.23 = False\n",
    "    #0.0.0.0 = True\n",
    "    #123.24.59.99 = True\n",
    "    #192.168.123.456 = False\n",
    "    #192.168.0.1 = True\n",
    "    "
   ]
  },
  {
   "cell_type": "code",
   "execution_count": null,
   "metadata": {},
   "outputs": [],
   "source": []
  }
 ],
 "metadata": {
  "kernelspec": {
   "display_name": "Python 3",
   "language": "python",
   "name": "python3"
  },
  "language_info": {
   "codemirror_mode": {
    "name": "ipython",
    "version": 3
   },
   "file_extension": ".py",
   "mimetype": "text/x-python",
   "name": "python",
   "nbconvert_exporter": "python",
   "pygments_lexer": "ipython3",
   "version": "3.7.4"
  }
 },
 "nbformat": 4,
 "nbformat_minor": 2
}
