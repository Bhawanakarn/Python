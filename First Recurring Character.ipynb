{
 "cells": [
  {
   "cell_type": "code",
   "execution_count": 1,
   "metadata": {},
   "outputs": [],
   "source": [
    "# This program takes the input of a string of characters and\n",
    "# returns the first recurring character\n",
    "\n",
    "#example: \n",
    "#Input_string = \"abca\" then program should return \"a\"\n",
    "#Input_string = \"bcaba\" then program should return \"b\"\n",
    "#Input_string = \"abc\" then program should return NULL"
   ]
  },
  {
   "cell_type": "code",
   "execution_count": 2,
   "metadata": {},
   "outputs": [],
   "source": [
    "#One of the NIAVE method/brute-force method would be to check for every possible pair of combination available\n",
    "# that wouls take O(n^2) complexity as we need to run 2 for loops for the pair finding and comparison"
   ]
  },
  {
   "cell_type": "code",
   "execution_count": 9,
   "metadata": {},
   "outputs": [
    {
     "data": {
      "text/plain": [
       "'a'"
      ]
     },
     "execution_count": 9,
     "metadata": {},
     "output_type": "execute_result"
    }
   ],
   "source": [
    "# This is the better version of the program with the complexity of O(n)\n",
    "# The idea behind it is actually to store a input_string in a dictionary\n",
    "# where key = Characters and value = occurence\n",
    "\n",
    "# from the first exapmle of above\n",
    "#Input_string = \"abca\" then program should return \"a\"\n",
    "\n",
    "# |Characters | Occurence |\n",
    "# |  \"a\"      |     1     |\n",
    "# |  \"b\"      |     1     |\n",
    "# |  \"c\"      |     1     |\n",
    "\n",
    "#as soon as it find the second occurence of \"a\", it will throw out that character.\n",
    "\n",
    "def recurring_character(input_String):\n",
    "    dict = {} #this is the dictionary to hold the character and their respective occurence from input_string\n",
    "    for char in input_String:\n",
    "        if char in dict:  #check for duplication\n",
    "            return char   # of that particular character is appeared again, then return it\n",
    "        dict[char] = 1    # if it is not in dict, then add its occurence/value = 1\n",
    "        #print(\"\", char, \"occured:\", dict[char])\n",
    "        ##print(dict)\n",
    "    return -1\n",
    "\n",
    "#DRIVER FUNCTION\n",
    "input_String = \"abca\"\n",
    "#input_String = \"abc\"\n",
    "#input_String = \"bcaba\"\n",
    "#input_String = \"anark\"\n",
    "recurring_character(input_String)"
   ]
  },
  {
   "cell_type": "code",
   "execution_count": null,
   "metadata": {},
   "outputs": [],
   "source": []
  }
 ],
 "metadata": {
  "kernelspec": {
   "display_name": "Python 3",
   "language": "python",
   "name": "python3"
  },
  "language_info": {
   "codemirror_mode": {
    "name": "ipython",
    "version": 3
   },
   "file_extension": ".py",
   "mimetype": "text/x-python",
   "name": "python",
   "nbconvert_exporter": "python",
   "pygments_lexer": "ipython3",
   "version": "3.7.4"
  }
 },
 "nbformat": 4,
 "nbformat_minor": 2
}
