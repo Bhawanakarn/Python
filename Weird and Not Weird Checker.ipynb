{
 "cells": [
  {
   "cell_type": "code",
   "execution_count": 30,
   "metadata": {},
   "outputs": [
    {
     "name": "stdout",
     "output_type": "stream",
     "text": [
      "25\n",
      "Weird\n"
     ]
    }
   ],
   "source": [
    "# If n is odd, print Weird\n",
    "# If n is even and in the inclusive range of  to , print Not Weird\n",
    "# If n is even and in the inclusive range of  to , print Weird\n",
    "# If n is even and greater than , print Not Weird\n",
    "\n",
    "if __name__ == '__main__':\n",
    "    n = int(input().strip())\n",
    "    if (n%2 == 1):\n",
    "        print(\"Weird\")\n",
    "    if(n%2 == 0):\n",
    "        if(n>1 and n<6):\n",
    "            print(\"Not Weird\")\n",
    "            \n",
    "        if(n>5 and n<=20):\n",
    "            print(\"Weird\")\n",
    "            \n",
    "        if(n>20):\n",
    "            print(\"Not Weird\")"
   ]
  },
  {
   "cell_type": "code",
   "execution_count": null,
   "metadata": {},
   "outputs": [],
   "source": []
  }
 ],
 "metadata": {
  "kernelspec": {
   "display_name": "Python 3",
   "language": "python",
   "name": "python3"
  },
  "language_info": {
   "codemirror_mode": {
    "name": "ipython",
    "version": 3
   },
   "file_extension": ".py",
   "mimetype": "text/x-python",
   "name": "python",
   "nbconvert_exporter": "python",
   "pygments_lexer": "ipython3",
   "version": "3.7.4"
  }
 },
 "nbformat": 4,
 "nbformat_minor": 2
}
