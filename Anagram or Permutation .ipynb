{
 "cells": [
  {
   "cell_type": "code",
   "execution_count": 1,
   "metadata": {},
   "outputs": [
    {
     "name": "stdout",
     "output_type": "stream",
     "text": [
      "the new s1: abc\n",
      "the new s2: abdeiooo\n",
      "0\n"
     ]
    },
    {
     "data": {
      "text/plain": [
       "True"
      ]
     },
     "execution_count": 1,
     "metadata": {},
     "output_type": "execute_result"
    }
   ],
   "source": [
    "def checkInclusion(s1: str, s2: str):\n",
    "    n1 = len(s1)\n",
    "    n2 = len(s2)\n",
    "\n",
    "    stringOne = sorted(s1)\n",
    "    s1= \"\".join(stringOne)\n",
    "    print(\"the new s1:\", s1)\n",
    "    stringTwo = sorted(s2)\n",
    "    s2 = \"\".join(stringTwo)\n",
    "    print(\"the new s2:\", s2)\n",
    "\n",
    "    for i in range(0, n1):\n",
    "        print(i)\n",
    "        if s2[i] != s1[i]:\n",
    "            return False\n",
    "        else:\n",
    "            return True\n",
    "        i+=1\n",
    "    \n",
    "    print(\"s2 contains the permutation of s1 (\", str(s1), \")\")\n",
    "\n",
    "s1 = \"abc\"\n",
    "s2 =\"eidbaooo\"\n",
    "checkInclusion(s1, s2)"
   ]
  },
  {
   "cell_type": "code",
   "execution_count": null,
   "metadata": {},
   "outputs": [],
   "source": [
    "def premutation(string1, string2):\n",
    "    newStringOne = sorted(string1)\n",
    "    newStringTwo = sorted(string2)\n",
    "    for i in range(len(string1)):\n",
    "        if newStringTwo[i] != newStringOne[i]:\n",
    "            return False\n",
    "        return True"
   ]
  }
 ],
 "metadata": {
  "kernelspec": {
   "display_name": "Python 3",
   "language": "python",
   "name": "python3"
  },
  "language_info": {
   "codemirror_mode": {
    "name": "ipython",
    "version": 3
   },
   "file_extension": ".py",
   "mimetype": "text/x-python",
   "name": "python",
   "nbconvert_exporter": "python",
   "pygments_lexer": "ipython3",
   "version": "3.7.4"
  }
 },
 "nbformat": 4,
 "nbformat_minor": 2
}
