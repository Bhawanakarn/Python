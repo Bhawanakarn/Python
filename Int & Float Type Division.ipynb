{
 "cells": [
  {
   "cell_type": "code",
   "execution_count": 5,
   "metadata": {},
   "outputs": [
    {
     "name": "stdout",
     "output_type": "stream",
     "text": [
      "4\n",
      "3\n",
      "The division of your input ininteger :  1\n",
      "The division of your input in float:  1.3333333333333333\n"
     ]
    }
   ],
   "source": [
    "# Read two integers and print two lines. The first line should contain integer division,  // .\n",
    "# The second line should contain float division,  / .\n",
    "\n",
    "if __name__ == '__main__':\n",
    "    a = int(input())\n",
    "    b = int(input())\n",
    "    first = a//b\n",
    "    print(\"The division of your input ininteger : \",first)\n",
    "    second = a/b\n",
    "    print(\"The division of your input in float: \", second)"
   ]
  },
  {
   "cell_type": "code",
   "execution_count": null,
   "metadata": {},
   "outputs": [],
   "source": []
  }
 ],
 "metadata": {
  "kernelspec": {
   "display_name": "Python 3",
   "language": "python",
   "name": "python3"
  },
  "language_info": {
   "codemirror_mode": {
    "name": "ipython",
    "version": 3
   },
   "file_extension": ".py",
   "mimetype": "text/x-python",
   "name": "python",
   "nbconvert_exporter": "python",
   "pygments_lexer": "ipython3",
   "version": "3.7.4"
  }
 },
 "nbformat": 4,
 "nbformat_minor": 2
}
