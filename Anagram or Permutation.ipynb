{
 "cells": [
  {
   "cell_type": "code",
   "execution_count": 55,
   "metadata": {},
   "outputs": [
    {
     "name": "stdout",
     "output_type": "stream",
     "text": [
      "The original provided strings are:- aeoiu and  oubae\n",
      "The first sorted string is: aeiou\n",
      "The second sorted string is: abeou\n"
     ]
    },
    {
     "data": {
      "text/plain": [
       "False"
      ]
     },
     "execution_count": 55,
     "metadata": {},
     "output_type": "execute_result"
    }
   ],
   "source": [
    "# ANAGRAM/ PERMUTATION\n",
    "#Given two strings, write a method to decide if one is a permutation of other.\n",
    "# the function should return boolean type, of whether two lists are permutation of other or not\n",
    "# the length of both strings must me equal to each-other.\n",
    "\n",
    "#PLAN = Sort the dirst string\n",
    "# sort the second string\n",
    "# For sanity, check if the size of both string\n",
    "# if they are not same, then this cannot be proceded\n",
    "# if not, then go ahead,\n",
    "# now have a pointer which will run from 0 to length of string\n",
    "# then it will compare each character of both strings,\n",
    "# if the characters are same, then return true(i.e. the permutation exists)\n",
    "# else return false(i.e. the permutation does not exist)\n",
    "\n",
    "def anagram(stringOne, stringTwo)-> bool:\n",
    "    \n",
    "    s1 = sorted(stringOne)\n",
    "    stringOne = \"\".join(s1)\n",
    "    print(\"The first sorted string is:\", stringOne)\n",
    "    s2 = sorted(stringTwo)\n",
    "    stringTwo = \"\".join(s2)\n",
    "    print(\"The second sorted string is:\", stringTwo)\n",
    "    \n",
    "    #when the length of the strings is not the same\n",
    "    if len(stringOne) != len(stringTwo):\n",
    "        print(\"There cannot be any Anagram OR Permuattion possible with these strings\")\n",
    "    else:\n",
    "        for i in range(0, len(stringOne)): #run the loop from 0 to length of the string\n",
    "            if stringOne[i] != stringTwo[i]: # check if the ith element of stringOne is not equal to ith element of stringTwo\n",
    "                return False # if they are not, then return false\n",
    "        return True # else, return true\n",
    "    \n",
    "#driver function \n",
    "stringOne=\"aeoiu\"\n",
    "stringTwo=\"oubae\"\n",
    "print(\"The original provided strings are:-\" ,stringOne, \"and \", stringTwo)\n",
    "anagram(stringOne, stringTwo)"
   ]
  },
  {
   "cell_type": "code",
   "execution_count": null,
   "metadata": {},
   "outputs": [],
   "source": []
  }
 ],
 "metadata": {
  "kernelspec": {
   "display_name": "Python 3",
   "language": "python",
   "name": "python3"
  },
  "language_info": {
   "codemirror_mode": {
    "name": "ipython",
    "version": 3
   },
   "file_extension": ".py",
   "mimetype": "text/x-python",
   "name": "python",
   "nbconvert_exporter": "python",
   "pygments_lexer": "ipython3",
   "version": "3.7.4"
  }
 },
 "nbformat": 4,
 "nbformat_minor": 2
}
